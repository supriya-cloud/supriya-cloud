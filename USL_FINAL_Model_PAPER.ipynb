{
 "cells": [
  {
   "cell_type": "markdown",
   "metadata": {},
   "source": [
    "# USL FINAL EXAM"
   ]
  },
  {
   "cell_type": "markdown",
   "metadata": {},
   "source": [
    "### Dataset Information: \n",
    "These data were aggregated from a number of sources including the American Community Survey (census.gov), clinicaltrials.gov, and cancer.gov"
   ]
  },
  {
   "cell_type": "markdown",
   "metadata": {},
   "source": [
    "### ATTRIBUTES:\n",
    "\n",
    "avgAnnCount: Mean number of reported cases of cancer diagnosed annually\n",
    "\n",
    "avgDeathsPerYear: Mean number of reported mortalities due to cancer\n",
    "\n",
    "incidenceRate: Mean per capita (100,000) cancer diagoses\n",
    "\n",
    "medianIncome: Median income per county \n",
    "\n",
    "popEst2015: Population of county\n",
    "\n",
    "povertyPercent: Percent of populace in poverty\n",
    "\n",
    "studyPerCap: Per capita number of cancer-related clinical trials per county\n",
    "\n",
    "MedianAge: Median age of county residents\n",
    "\n",
    "MedianAgeMale: Median age of male county residents\n",
    "\n",
    "MedianAgeFemale: Median age of female county residents\n",
    "\n",
    "Geography: County name\n",
    "\n",
    "AvgHouseholdSize: Mean household size of county\n",
    "\n",
    "PercentMarried: Percent of county residents who are married\n",
    "\n",
    "PctNoHS18_24: Percent of county residents ages 18-24 highest education attained: less than high school\n",
    "\n",
    "PctHS18_24: Percent of county residents ages 18-24 highest education attained: high school diploma\n",
    "\n",
    "PctSomeCol18_24: Percent of county residents ages 18-24 highest education attained: some college \n",
    "\n",
    "PctBachDeg18_24: Percent of county residents ages 18-24 highest education attained: bachelor's degree\n",
    "\n",
    "PctHS25_Over: Percent of county residents ages 25 and over highest education attained: high school diploma\n",
    "\n",
    "PctBachDeg25_Over: Percent of county residents ages 25 and over highest education attained: bachelor's degree\n",
    "\n",
    "PctEmployed16_Over: Percent of county residents ages 16 and over employed\n",
    "\n",
    "PctUnemployed16_Over: Percent of county residents ages 16 and over unemployed\n",
    "\n",
    "PctPrivateCoverage: Percent of county residents with private health coverage\n",
    "\n",
    "PctPrivateCoverageAlone: Percent of county residents with private health coverage alone (no public assistance)\n",
    "\n",
    "PctEmpPrivCoverage: Percent of county residents with employee-provided private health coverage\n",
    "\n",
    "PctPublicCoverage: Percent of county residents with government-provided health coverage\n",
    "\n",
    "PctPubliceCoverageAlone: Percent of county residents with government-provided health coverage alone \n",
    "\n",
    "PctWhite: Percent of county residents who identify as White\n",
    "\n",
    "PctBlack: Percent of county residents who identify as Black\n",
    "\n",
    "PctAsian: Percent of county residents who identify as Asian\n",
    "\n",
    "PctOtherRace: Percent of county residents who identify in a category which is not White, Black, or Asian\n",
    "\n",
    "PctMarriedHouseholds: Percent of married households\n",
    "\n",
    "BirthRate: Number of live births relative to number of women in county"
   ]
  },
  {
   "cell_type": "code",
   "execution_count": null,
   "metadata": {
    "colab_type": "raw",
    "id": "wEgYP9-oW0cg"
   },
   "outputs": [],
   "source": [
    "## Kindly change the below cells from markdown to code and execute it "
   ]
  },
  {
   "cell_type": "markdown",
   "metadata": {
    "colab_type": "raw",
    "id": "VQ_WA9jKW0ch"
   },
   "source": [
    "import pandas as pd\n",
    "\n",
    "import csv\n",
    "\n",
    "with open(\"data_set.csv\",\"r\")as file:\n",
    "    \n",
    "    reader=csv.reader(file)\n",
    "\n",
    "df=pd.read_csv(\"data_set.csv\")\n",
    "\n",
    "df.head()\n"
   ]
  },
  {
   "cell_type": "markdown",
   "metadata": {},
   "source": [
    "### 1.\tData Understanding (5 marks)\n",
    "\n",
    "a.\tRead the dataset (tab, csv, xls, txt, inbuilt dataset). Print the number of rows, cols and types of variables (continuous, categorical etc.)? (1 MARK)\n",
    "\n",
    "b.\tCalculate five-point summary for numerical variables (1 MARK)\n",
    "\n",
    "c.\tSummarize observations for categorical variables – no. of categories, % observations in each category.  (1 MARK)\n",
    "\n",
    "d.\tGenerate the covariance and correlation tables for the data (1 MARK)\n",
    "\n",
    "e.\tCreate Visualization plots to find the relationship amongst the variables. (1 MARK)\n"
   ]
  },
  {
   "cell_type": "code",
   "execution_count": null,
   "metadata": {},
   "outputs": [],
   "source": []
  },
  {
   "cell_type": "markdown",
   "metadata": {},
   "source": [
    "### 2.\tData Preparation (5 marks)\n",
    "\n",
    "a.\tScale / Transform/ clean the data so that it is suitable for model building.\n"
   ]
  },
  {
   "cell_type": "code",
   "execution_count": null,
   "metadata": {},
   "outputs": [],
   "source": []
  },
  {
   "cell_type": "markdown",
   "metadata": {},
   "source": [
    "### 3.\tDimensionality Reduction (15 marks)\n",
    "\n",
    "a.\tHow will you decide when to apply PCA based on the correlation? (2 marks) \n",
    "\n",
    "b.\tApply PCA on the above dataset and determine the number of PCA components to be used so that 90% of the variance in data is explained by the same. (7 marks)\n",
    "\n",
    "c.\tBuild a data frame with the principal components and check if multi-collinearity still exists. ( 2  marks).\n",
    "\n",
    "d.\tVisualize the spread of data across PCA components. (2 marks)\n",
    "\n",
    "e.\tCheck for outliers in the PCA data and treat the same. (2 marks)\n"
   ]
  },
  {
   "cell_type": "code",
   "execution_count": null,
   "metadata": {},
   "outputs": [],
   "source": []
  },
  {
   "cell_type": "markdown",
   "metadata": {},
   "source": [
    "### 4.\tClustering: Use PCA dimensions to cluster the data. Apply K-means and Agglomerative clustering. (30 Marks)\n",
    "\n",
    "Some pointers which would help you, but don’t be limited by these\n",
    "\n",
    "a.\tApply Clustering and visualize the spread of data (15 marks)\n",
    "\n",
    "b.  Find the optimal number of cluster Value. (8 marks)\n",
    "\n",
    "c.\tEvaluate the clusters formed using appropriate metrics (inertia, silhouette score) to support the model built and compare both the models. (5 marks)\n",
    "\n",
    "d.\tUsing best attributes based on the relationship between them, plot the clusters. (2 marks)\n"
   ]
  },
  {
   "cell_type": "code",
   "execution_count": null,
   "metadata": {},
   "outputs": [],
   "source": []
  },
  {
   "cell_type": "markdown",
   "metadata": {},
   "source": [
    "### 5.\tUse the cluster labels from the best method above and interpret the clusters formed. (5 marks)"
   ]
  },
  {
   "cell_type": "code",
   "execution_count": null,
   "metadata": {},
   "outputs": [],
   "source": []
  },
  {
   "cell_type": "markdown",
   "metadata": {},
   "source": [
    "### 6.\tSummarize as follows (10 marks)\n",
    "\n",
    "a.\tSummarize the overall fit of the model. Compare all the clustering models built and list down the measures to prove that it is a good model.\n",
    "\n",
    "b.\tWrite down a business interpretation/explanation of the model. (List the countries to be focused on).\n",
    "\n",
    "c.\tWhat are the key risks to your results and interpretation?\n"
   ]
  },
  {
   "cell_type": "code",
   "execution_count": null,
   "metadata": {},
   "outputs": [],
   "source": []
  }
 ],
 "metadata": {
  "kernelspec": {
   "display_name": "Python 3",
   "language": "python",
   "name": "python3"
  },
  "language_info": {
   "codemirror_mode": {
    "name": "ipython",
    "version": 3
   },
   "file_extension": ".py",
   "mimetype": "text/x-python",
   "name": "python",
   "nbconvert_exporter": "python",
   "pygments_lexer": "ipython3",
   "version": "3.8.5"
  }
 },
 "nbformat": 4,
 "nbformat_minor": 1
}
