{
 "cells": [
  {
   "cell_type": "markdown",
   "metadata": {},
   "source": [
    "# NumPy\n",
    "\n",
    "numpy is python's package for doing math that is more advanced than +-*/\n",
    "\n",
    "This includes special functions like cosine, exponential, sqrt, ...\n",
    "\n",
    "On top of this we can use numpy to generate samples from many types of random variables\n",
    "\n",
    "numpy also has a powerful data type to define vectors, matrices, and tensors\n",
    "\n",
    "With these data types numpy also allows us to do linear algebra - matrix multiplication and matrix-vector solutions"
   ]
  },
  {
   "cell_type": "code",
   "execution_count": 1,
   "metadata": {},
   "outputs": [],
   "source": [
    "# the first step of using numpy is to tell python to use it\n",
    "import numpy as np"
   ]
  },
  {
   "cell_type": "code",
   "execution_count": 2,
   "metadata": {},
   "outputs": [
    {
     "name": "stdout",
     "output_type": "stream",
     "text": [
      "-1.0\n",
      "1.1\n",
      "5.2\n"
     ]
    }
   ],
   "source": [
    "print(np.cos(np.pi))\n",
    "print(np.sqrt(1.21))\n",
    "print(np.log(np.exp(5.2)))"
   ]
  },
  {
   "cell_type": "code",
   "execution_count": 3,
   "metadata": {},
   "outputs": [
    {
     "name": "stdout",
     "output_type": "stream",
     "text": [
      "[1 2 3]\n",
      "\n",
      "[[1 2 1]\n",
      " [4 5 9]\n",
      " [1 8 9]]\n",
      "\n",
      "[[1 4 1]\n",
      " [2 5 8]\n",
      " [1 9 9]]\n"
     ]
    }
   ],
   "source": [
    "# we can create numpy arrays by converting lists\n",
    "# this is a vector\n",
    "vec = np.array([1,2,3])\n",
    "print(vec)\n",
    "# we can create matrices by converting lists of lists\n",
    "mat = np.array([[1,2,1],[4,5,9],[1,8,9]])\n",
    "print('')\n",
    "print(mat)\n",
    "print('')\n",
    "print(mat.T)"
   ]
  },
  {
   "cell_type": "code",
   "execution_count": 4,
   "metadata": {},
   "outputs": [
    {
     "name": "stdout",
     "output_type": "stream",
     "text": [
      "[ 0  1  2  3  4  5  6  7  8  9 10 11 12 13 14]\n",
      "\n",
      "[ 3  9 15]\n"
     ]
    }
   ],
   "source": [
    "# there are lots of other ways to create numpy arrays\n",
    "vec2 = np.arange(0,15)\n",
    "print(vec2)\n",
    "print('')\n",
    "vec3 = np.arange(3,21,6)\n",
    "print(vec3)\n"
   ]
  },
  {
   "cell_type": "code",
   "execution_count": 5,
   "metadata": {},
   "outputs": [
    {
     "name": "stdout",
     "output_type": "stream",
     "text": [
      "[0.         0.55555556 1.11111111 1.66666667 2.22222222 2.77777778\n",
      " 3.33333333 3.88888889 4.44444444 5.        ]\n",
      "\n",
      "[[0.         0.55555556]\n",
      " [1.11111111 1.66666667]\n",
      " [2.22222222 2.77777778]\n",
      " [3.33333333 3.88888889]\n",
      " [4.44444444 5.        ]]\n",
      "[[0.         0.55555556]\n",
      " [1.11111111 1.66666667]\n",
      " [2.22222222 2.77777778]\n",
      " [3.33333333 3.88888889]\n",
      " [4.44444444 5.        ]]\n",
      "[0.         0.55555556 1.11111111 1.66666667 2.22222222 2.77777778\n",
      " 3.33333333 3.88888889 4.44444444 5.        ]\n"
     ]
    }
   ],
   "source": [
    "\n",
    "vec4 = np.linspace(0,5,10)\n",
    "print(vec4)\n",
    "print('')\n",
    "print(vec4.reshape(5,2))\n",
    "vec4_reshaped = vec4.reshape(5,2)\n",
    "print(vec4_reshaped)\n",
    "print(vec4)"
   ]
  },
  {
   "cell_type": "code",
   "execution_count": 6,
   "metadata": {},
   "outputs": [
    {
     "name": "stdout",
     "output_type": "stream",
     "text": [
      "[[0. 0. 0.]\n",
      " [0. 0. 0.]\n",
      " [0. 0. 0.]\n",
      " [0. 0. 0.]\n",
      " [0. 0. 0.]]\n",
      "\n",
      "[[1. 1. 1. 1. 1.]\n",
      " [1. 1. 1. 1. 1.]\n",
      " [1. 1. 1. 1. 1.]]\n",
      "\n",
      "[[1. 0. 0. 0. 0.]\n",
      " [0. 1. 0. 0. 0.]\n",
      " [0. 0. 1. 0. 0.]\n",
      " [0. 0. 0. 1. 0.]\n",
      " [0. 0. 0. 0. 1.]]\n"
     ]
    }
   ],
   "source": [
    "mat2 = np.zeros([5,3])\n",
    "print(mat2)\n",
    "mat3 = np.ones((3,5))\n",
    "print('')\n",
    "print(mat3)\n",
    "mat4 = np.eye(5)\n",
    "print('')\n",
    "print(mat4)"
   ]
  },
  {
   "cell_type": "code",
   "execution_count": 7,
   "metadata": {},
   "outputs": [
    {
     "name": "stdout",
     "output_type": "stream",
     "text": [
      "[1 2 3 4 5]\n",
      "[3 4 5 6 7]\n",
      "[ 4  6  8 10 12]\n",
      "[ 3  8 15 24 35]\n",
      "[1.         0.5        0.33333333 0.25       0.2       ]\n",
      "[1.73205081 2.         2.23606798 2.44948974 2.64575131]\n"
     ]
    }
   ],
   "source": [
    "# we can +-*/ arrays together if they're the right size\n",
    "vec5 = np.arange(1,6)\n",
    "vec6 = np.arange(3,8)\n",
    "print(vec5)\n",
    "print(vec6)\n",
    "print(vec5+vec6)\n",
    "print(vec5*vec6)\n",
    "print(1/vec5)\n",
    "print(np.sqrt(vec6))"
   ]
  },
  {
   "cell_type": "code",
   "execution_count": 8,
   "metadata": {},
   "outputs": [
    {
     "name": "stdout",
     "output_type": "stream",
     "text": [
      "[[1 2 1]\n",
      " [4 5 9]\n",
      " [1 8 9]]\n",
      "\n",
      "[1 2 3]\n",
      "\n",
      "[ 8 41 44]\n"
     ]
    }
   ],
   "source": [
    "# we can do matrix multiplication\n",
    "print(mat)\n",
    "print('')\n",
    "print(vec)\n",
    "print()\n",
    "product = np.matmul(mat,vec)\n",
    "print(product)"
   ]
  },
  {
   "cell_type": "code",
   "execution_count": 9,
   "metadata": {},
   "outputs": [
    {
     "name": "stdout",
     "output_type": "stream",
     "text": [
      "[1. 2. 3.]\n",
      "\n",
      "[[ 0.5         0.18518519 -0.24074074]\n",
      " [ 0.5        -0.14814815  0.09259259]\n",
      " [-0.5         0.11111111  0.05555556]]\n"
     ]
    }
   ],
   "source": [
    "print(np.linalg.solve(mat,product))\n",
    "print('')\n",
    "print(np.linalg.inv(mat))"
   ]
  },
  {
   "cell_type": "code",
   "execution_count": 10,
   "metadata": {},
   "outputs": [
    {
     "name": "stdout",
     "output_type": "stream",
     "text": [
      "['blue' 'red' 'orange' 'purple' 'purple' 'orange' 'Red' '6']\n",
      "['6' 'Red' 'blue' 'orange' 'purple' 'red']\n"
     ]
    }
   ],
   "source": [
    "# we can find the unique values in an array\n",
    "vec7 = np.array(['blue','red','orange','purple','purple','orange','Red',6])\n",
    "print(vec7)\n",
    "print(np.unique(vec7))"
   ]
  },
  {
   "cell_type": "code",
   "execution_count": 11,
   "metadata": {},
   "outputs": [
    {
     "name": "stdout",
     "output_type": "stream",
     "text": [
      "[[0.57782742 0.30001943 0.70137804 0.53368726 0.72527046]\n",
      " [0.2052008  0.24919385 0.65780589 0.71333827 0.51569658]\n",
      " [0.70483947 0.73413037 0.4718543  0.0667752  0.72725682]\n",
      " [0.95471388 0.40050119 0.19004815 0.60244919 0.86427857]\n",
      " [0.60667828 0.40264779 0.59155183 0.09964067 0.60965519]]\n",
      "\n",
      "[[-0.91384315  0.71464905 -0.66904594 -1.45098513  0.10294989]\n",
      " [-0.72417378  1.03150963 -0.68357776 -0.62282788 -0.77005685]\n",
      " [-0.55885965  0.35597583  0.72653147  1.33109256  0.34967987]\n",
      " [ 0.28088781  1.3187404   0.97707931 -0.04063222 -0.56628363]\n",
      " [ 0.18043812 -0.43037738  0.55068917  0.21231453 -0.22030748]\n",
      " [-0.92784759 -1.76360256 -1.27605655  0.05603157  0.03402691]\n",
      " [-0.59542864 -0.23772241  0.14644762 -0.375385    0.80206523]\n",
      " [-0.08660808  0.5079129  -0.02411295 -1.61028106 -0.93392033]\n",
      " [-1.40044273  1.48423748 -1.00535968  1.24714024 -1.22361144]\n",
      " [ 1.20119519 -0.80710214  1.56808026 -1.82262062 -0.83680709]]\n"
     ]
    }
   ],
   "source": [
    "# we can also use numpy to generate samples of a random variable\n",
    "rand_mat = np.random.rand(5,5) # uniform random variable\n",
    "print(rand_mat)\n",
    "rand_mat2 = np.random.randn(10,5) # standard normal random variable\n",
    "print('')\n",
    "print(rand_mat2)"
   ]
  },
  {
   "cell_type": "code",
   "execution_count": 12,
   "metadata": {},
   "outputs": [
    {
     "name": "stdout",
     "output_type": "stream",
     "text": [
      "0.5282575568324447\n",
      "0.8919266970640195\n"
     ]
    }
   ],
   "source": [
    "# we can also use numpy for statistical tools on arrays\n",
    "print(np.mean(rand_mat))\n",
    "print(np.std(rand_mat2))"
   ]
  },
  {
   "cell_type": "code",
   "execution_count": 13,
   "metadata": {},
   "outputs": [
    {
     "name": "stdout",
     "output_type": "stream",
     "text": [
      "0.06677520472532039\n",
      "1.5680802631500947\n"
     ]
    }
   ],
   "source": [
    "print(np.min(rand_mat))\n",
    "print(np.max(rand_mat2))"
   ]
  },
  {
   "cell_type": "code",
   "execution_count": 14,
   "metadata": {},
   "outputs": [],
   "source": [
    "# break here for next video!"
   ]
  },
  {
   "cell_type": "code",
   "execution_count": 15,
   "metadata": {},
   "outputs": [
    {
     "name": "stdout",
     "output_type": "stream",
     "text": [
      "[ 1.67450535  0.93316653  0.08292095 -0.54068088  1.67461019 -0.4835272\n",
      " -0.38912771  0.38532134  0.73045777  0.71260902 -1.34951902 -0.40830345\n",
      "  1.62102     0.00950927  0.95729181 -0.44704279  1.39532733 -0.87862938\n",
      "  0.53395232]\n",
      "-0.3891277089113464\n"
     ]
    }
   ],
   "source": [
    "# how do we access entries in a numpy vector\n",
    "rand_vec = np.random.randn(19)\n",
    "print(rand_vec)\n",
    "print(rand_vec[6])"
   ]
  },
  {
   "cell_type": "code",
   "execution_count": 16,
   "metadata": {},
   "outputs": [
    {
     "name": "stdout",
     "output_type": "stream",
     "text": [
      "[ 1.67461019 -0.4835272  -0.38912771  0.38532134  0.73045777]\n"
     ]
    }
   ],
   "source": [
    "# we can access multiple entries at once using :\n",
    "print(rand_vec[4:9])"
   ]
  },
  {
   "cell_type": "code",
   "execution_count": 17,
   "metadata": {},
   "outputs": [
    {
     "name": "stdout",
     "output_type": "stream",
     "text": [
      "[ 0  3  6  9 12]\n",
      "[ 1.67450535 -0.54068088 -0.38912771  0.71260902  1.62102   ]\n"
     ]
    }
   ],
   "source": [
    "# we can also access multiple non-consecutive entries using np.arange\n",
    "print(np.arange(0,15,3))\n",
    "print(rand_vec[np.arange(0,15,3)])"
   ]
  },
  {
   "cell_type": "code",
   "execution_count": 18,
   "metadata": {},
   "outputs": [
    {
     "name": "stdout",
     "output_type": "stream",
     "text": [
      "[[0.57782742 0.30001943 0.70137804 0.53368726 0.72527046]\n",
      " [0.2052008  0.24919385 0.65780589 0.71333827 0.51569658]\n",
      " [0.70483947 0.73413037 0.4718543  0.0667752  0.72725682]\n",
      " [0.95471388 0.40050119 0.19004815 0.60244919 0.86427857]\n",
      " [0.60667828 0.40264779 0.59155183 0.09964067 0.60965519]]\n",
      "0.65780589255438\n",
      "0.65780589255438\n"
     ]
    }
   ],
   "source": [
    "# what about matrices\n",
    "print(rand_mat)\n",
    "print(rand_mat[1][2])\n",
    "print(rand_mat[1,2])\n"
   ]
  },
  {
   "cell_type": "code",
   "execution_count": 19,
   "metadata": {},
   "outputs": [
    {
     "name": "stdout",
     "output_type": "stream",
     "text": [
      "[[0.30001943 0.70137804]\n",
      " [0.24919385 0.65780589]]\n"
     ]
    }
   ],
   "source": [
    "print(rand_mat[0:2,1:3])"
   ]
  },
  {
   "cell_type": "code",
   "execution_count": 20,
   "metadata": {},
   "outputs": [
    {
     "name": "stdout",
     "output_type": "stream",
     "text": [
      "[ 1.67450535  0.93316653  0.08292095 -0.54068088  1.67461019 -0.4835272\n",
      " -0.38912771  0.38532134  0.73045777  0.71260902 -1.34951902 -0.40830345\n",
      "  1.62102     0.00950927  0.95729181 -0.44704279  1.39532733 -0.87862938\n",
      "  0.53395232]\n",
      "\n",
      "[ 1.67450535  0.93316653  0.08292095  4.          4.         -0.4835272\n",
      " -0.38912771  0.38532134  0.73045777  0.71260902 -1.34951902 -0.40830345\n",
      "  1.62102     0.00950927  0.95729181 -0.44704279  1.39532733 -0.87862938\n",
      "  0.53395232]\n",
      "\n",
      "[ 1.67450535  0.93316653  0.08292095  1.          2.         -0.4835272\n",
      " -0.38912771  0.38532134  0.73045777  0.71260902 -1.34951902 -0.40830345\n",
      "  1.62102     0.00950927  0.95729181 -0.44704279  1.39532733 -0.87862938\n",
      "  0.53395232]\n"
     ]
    }
   ],
   "source": [
    "# let's change some values in an array!\n",
    "print(rand_vec)\n",
    "rand_vec[3:5] = 4\n",
    "print('')\n",
    "print(rand_vec)\n",
    "rand_vec[3:5] = [1,2]\n",
    "print('')\n",
    "print(rand_vec)"
   ]
  },
  {
   "cell_type": "code",
   "execution_count": 21,
   "metadata": {},
   "outputs": [
    {
     "name": "stdout",
     "output_type": "stream",
     "text": [
      "[[0.57782742 0.30001943 0.70137804 0.53368726 0.72527046]\n",
      " [0.2052008  0.24919385 0.65780589 0.71333827 0.51569658]\n",
      " [0.70483947 0.73413037 0.4718543  0.0667752  0.72725682]\n",
      " [0.95471388 0.40050119 0.19004815 0.60244919 0.86427857]\n",
      " [0.60667828 0.40264779 0.59155183 0.09964067 0.60965519]]\n",
      "\n",
      "[[0.57782742 0.30001943 0.70137804 0.53368726 0.72527046]\n",
      " [0.2052008  0.24919385 0.65780589 0.         0.        ]\n",
      " [0.70483947 0.73413037 0.4718543  0.         0.        ]\n",
      " [0.95471388 0.40050119 0.19004815 0.60244919 0.86427857]\n",
      " [0.60667828 0.40264779 0.59155183 0.09964067 0.60965519]]\n"
     ]
    }
   ],
   "source": [
    "print(rand_mat)\n",
    "rand_mat[1:3,3:5] = 0\n",
    "print('')\n",
    "print(rand_mat)"
   ]
  },
  {
   "cell_type": "code",
   "execution_count": 22,
   "metadata": {},
   "outputs": [
    {
     "name": "stdout",
     "output_type": "stream",
     "text": [
      "[[0.57782742 0.30001943 0.70137804]\n",
      " [0.2052008  0.24919385 0.65780589]]\n",
      "[[3. 3. 3.]\n",
      " [3. 3. 3.]]\n"
     ]
    }
   ],
   "source": [
    "sub_mat = rand_mat[0:2,0:3]\n",
    "print(sub_mat)\n",
    "sub_mat[:] = 3\n",
    "print(sub_mat)\n"
   ]
  },
  {
   "cell_type": "code",
   "execution_count": 23,
   "metadata": {},
   "outputs": [
    {
     "name": "stdout",
     "output_type": "stream",
     "text": [
      "[[3.         3.         3.         0.53368726 0.72527046]\n",
      " [3.         3.         3.         0.         0.        ]\n",
      " [0.70483947 0.73413037 0.4718543  0.         0.        ]\n",
      " [0.95471388 0.40050119 0.19004815 0.60244919 0.86427857]\n",
      " [0.60667828 0.40264779 0.59155183 0.09964067 0.60965519]]\n"
     ]
    }
   ],
   "source": [
    "print(rand_mat)"
   ]
  },
  {
   "cell_type": "code",
   "execution_count": 24,
   "metadata": {},
   "outputs": [
    {
     "name": "stdout",
     "output_type": "stream",
     "text": [
      "[[99. 99. 99.]\n",
      " [99. 99. 99.]]\n",
      "[[3.         3.         3.         0.53368726 0.72527046]\n",
      " [3.         3.         3.         0.         0.        ]\n",
      " [0.70483947 0.73413037 0.4718543  0.         0.        ]\n",
      " [0.95471388 0.40050119 0.19004815 0.60244919 0.86427857]\n",
      " [0.60667828 0.40264779 0.59155183 0.09964067 0.60965519]]\n"
     ]
    }
   ],
   "source": [
    "sub_mat2 = rand_mat[0:2,0:3].copy()\n",
    "sub_mat2[:] = 99\n",
    "print(sub_mat2)\n",
    "print(rand_mat)\n"
   ]
  },
  {
   "cell_type": "code",
   "execution_count": 25,
   "metadata": {},
   "outputs": [],
   "source": [
    "# break here for next video"
   ]
  },
  {
   "cell_type": "code",
   "execution_count": 26,
   "metadata": {},
   "outputs": [
    {
     "name": "stdout",
     "output_type": "stream",
     "text": [
      "[ 1.61500101  0.23029865  0.19011585  0.95100514 -0.15056233 -0.48576598\n",
      " -0.60287678  1.3239548  -0.26805256  0.12618843  0.76671695 -0.98228993\n",
      " -0.84291822  0.63087481 -2.01296723]\n",
      "[ True  True  True  True False False False  True False  True  True False\n",
      " False  True False]\n",
      "[1.61500101 0.23029865 0.19011585 0.95100514 1.3239548  0.12618843\n",
      " 0.76671695 0.63087481]\n"
     ]
    }
   ],
   "source": [
    "# we can also access entries with logicals\n",
    "rand_vec = np.random.randn(15)\n",
    "\n",
    "print(rand_vec)\n",
    "print(rand_vec>0)\n",
    "print(rand_vec[rand_vec>0])"
   ]
  },
  {
   "cell_type": "code",
   "execution_count": 27,
   "metadata": {},
   "outputs": [
    {
     "name": "stdout",
     "output_type": "stream",
     "text": [
      "[[-0.91384315  0.71464905 -0.66904594 -1.45098513  0.10294989]\n",
      " [-0.72417378  1.03150963 -0.68357776 -0.62282788 -0.77005685]\n",
      " [-0.55885965  0.35597583  0.72653147  1.33109256  0.34967987]\n",
      " [ 0.28088781  1.3187404   0.97707931 -0.04063222 -0.56628363]\n",
      " [ 0.18043812 -0.43037738  0.55068917  0.21231453 -0.22030748]\n",
      " [-0.92784759 -1.76360256 -1.27605655  0.05603157  0.03402691]\n",
      " [-0.59542864 -0.23772241  0.14644762 -0.375385    0.80206523]\n",
      " [-0.08660808  0.5079129  -0.02411295 -1.61028106 -0.93392033]\n",
      " [-1.40044273  1.48423748 -1.00535968  1.24714024 -1.22361144]\n",
      " [ 1.20119519 -0.80710214  1.56808026 -1.82262062 -0.83680709]]\n",
      "[0.71464905 0.10294989 1.03150963 0.35597583 0.72653147 1.33109256\n",
      " 0.34967987 0.28088781 1.3187404  0.97707931 0.18043812 0.55068917\n",
      " 0.21231453 0.05603157 0.03402691 0.14644762 0.80206523 0.5079129\n",
      " 1.48423748 1.24714024 1.20119519 1.56808026]\n"
     ]
    }
   ],
   "source": [
    "print(rand_mat2)\n",
    "print(rand_mat2[rand_mat2>0])"
   ]
  },
  {
   "cell_type": "code",
   "execution_count": 28,
   "metadata": {},
   "outputs": [
    {
     "name": "stdout",
     "output_type": "stream",
     "text": [
      "[ 1.61500101  0.23029865  0.19011585  0.95100514 -0.15056233 -0.48576598\n",
      " -0.60287678  1.3239548  -0.26805256  0.12618843  0.76671695 -0.98228993\n",
      " -0.84291822  0.63087481 -2.01296723]\n",
      "\n",
      "[-5.          0.23029865  0.19011585 -5.         -0.15056233 -0.48576598\n",
      " -0.60287678 -5.         -0.26805256  0.12618843 -5.         -0.98228993\n",
      " -0.84291822 -5.         -2.01296723]\n"
     ]
    }
   ],
   "source": [
    "\n",
    "print(rand_vec)\n",
    "print('')\n",
    "rand_vec[rand_vec>0.5] = -5\n",
    "print(rand_vec)"
   ]
  },
  {
   "cell_type": "code",
   "execution_count": 29,
   "metadata": {},
   "outputs": [],
   "source": [
    "# let's save some arrays on the disk for use later!\n",
    "np.save('saved_file_name',rand_mat2)\n"
   ]
  },
  {
   "cell_type": "code",
   "execution_count": 30,
   "metadata": {},
   "outputs": [],
   "source": [
    "np.savez('zipped_file_name',rand_mat=rand_mat,rand_mat2=rand_mat2)"
   ]
  },
  {
   "cell_type": "code",
   "execution_count": 31,
   "metadata": {},
   "outputs": [
    {
     "name": "stdout",
     "output_type": "stream",
     "text": [
      "[[-0.91384315  0.71464905 -0.66904594 -1.45098513  0.10294989]\n",
      " [-0.72417378  1.03150963 -0.68357776 -0.62282788 -0.77005685]\n",
      " [-0.55885965  0.35597583  0.72653147  1.33109256  0.34967987]\n",
      " [ 0.28088781  1.3187404   0.97707931 -0.04063222 -0.56628363]\n",
      " [ 0.18043812 -0.43037738  0.55068917  0.21231453 -0.22030748]\n",
      " [-0.92784759 -1.76360256 -1.27605655  0.05603157  0.03402691]\n",
      " [-0.59542864 -0.23772241  0.14644762 -0.375385    0.80206523]\n",
      " [-0.08660808  0.5079129  -0.02411295 -1.61028106 -0.93392033]\n",
      " [-1.40044273  1.48423748 -1.00535968  1.24714024 -1.22361144]\n",
      " [ 1.20119519 -0.80710214  1.56808026 -1.82262062 -0.83680709]]\n",
      "\n",
      "<numpy.lib.npyio.NpzFile object at 0x000001BAD9B5BC70>\n"
     ]
    }
   ],
   "source": [
    "# now let's load it\n",
    "loaded_vec = np.load('saved_file_name.npy')\n",
    "loaded_zip = np.load('zipped_file_name.npz')\n",
    "\n",
    "print(loaded_vec)\n",
    "print('')\n",
    "print(loaded_zip)"
   ]
  },
  {
   "cell_type": "code",
   "execution_count": 32,
   "metadata": {},
   "outputs": [
    {
     "name": "stdout",
     "output_type": "stream",
     "text": [
      "[[3.         3.         3.         0.53368726 0.72527046]\n",
      " [3.         3.         3.         0.         0.        ]\n",
      " [0.70483947 0.73413037 0.4718543  0.         0.        ]\n",
      " [0.95471388 0.40050119 0.19004815 0.60244919 0.86427857]\n",
      " [0.60667828 0.40264779 0.59155183 0.09964067 0.60965519]]\n",
      "\n",
      "[[-0.91384315  0.71464905 -0.66904594 -1.45098513  0.10294989]\n",
      " [-0.72417378  1.03150963 -0.68357776 -0.62282788 -0.77005685]\n",
      " [-0.55885965  0.35597583  0.72653147  1.33109256  0.34967987]\n",
      " [ 0.28088781  1.3187404   0.97707931 -0.04063222 -0.56628363]\n",
      " [ 0.18043812 -0.43037738  0.55068917  0.21231453 -0.22030748]\n",
      " [-0.92784759 -1.76360256 -1.27605655  0.05603157  0.03402691]\n",
      " [-0.59542864 -0.23772241  0.14644762 -0.375385    0.80206523]\n",
      " [-0.08660808  0.5079129  -0.02411295 -1.61028106 -0.93392033]\n",
      " [-1.40044273  1.48423748 -1.00535968  1.24714024 -1.22361144]\n",
      " [ 1.20119519 -0.80710214  1.56808026 -1.82262062 -0.83680709]]\n",
      "[[3.         3.         3.         0.53368726 0.72527046]\n",
      " [3.         3.         3.         0.         0.        ]\n",
      " [0.70483947 0.73413037 0.4718543  0.         0.        ]\n",
      " [0.95471388 0.40050119 0.19004815 0.60244919 0.86427857]\n",
      " [0.60667828 0.40264779 0.59155183 0.09964067 0.60965519]]\n"
     ]
    }
   ],
   "source": [
    "print(loaded_zip['rand_mat'])\n",
    "print('')\n",
    "print(loaded_zip['rand_mat2'])\n",
    "\n",
    "new_array  = loaded_zip['rand_mat']\n",
    "print(new_array)"
   ]
  },
  {
   "cell_type": "code",
   "execution_count": 33,
   "metadata": {},
   "outputs": [
    {
     "name": "stdout",
     "output_type": "stream",
     "text": [
      "[[3.         3.         3.         0.53368726 0.72527046]\n",
      " [3.         3.         3.         0.         0.        ]\n",
      " [0.70483947 0.73413037 0.4718543  0.         0.        ]\n",
      " [0.95471388 0.40050119 0.19004815 0.60244919 0.86427857]\n",
      " [0.60667828 0.40264779 0.59155183 0.09964067 0.60965519]]\n",
      "\n",
      "[[3.         3.         3.         0.53368726 0.72527046]\n",
      " [3.         3.         3.         0.         0.        ]\n",
      " [0.70483947 0.73413037 0.4718543  0.         0.        ]\n",
      " [0.95471388 0.40050119 0.19004815 0.60244919 0.86427857]\n",
      " [0.60667828 0.40264779 0.59155183 0.09964067 0.60965519]]\n"
     ]
    }
   ],
   "source": [
    "# we can also save/load as text files...but only single variables\n",
    "np.savetxt('text_file_name.txt',rand_mat,delimiter=',')\n",
    "rand_mat_txt = np.loadtxt('text_file_name.txt',delimiter=',')\n",
    "print(rand_mat)\n",
    "print('')\n",
    "print(rand_mat_txt)"
   ]
  },
  {
   "cell_type": "code",
   "execution_count": null,
   "metadata": {},
   "outputs": [],
   "source": []
  },
  {
   "cell_type": "code",
   "execution_count": null,
   "metadata": {},
   "outputs": [],
   "source": []
  }
 ],
 "metadata": {
  "kernelspec": {
   "display_name": "Python 3",
   "language": "python",
   "name": "python3"
  },
  "language_info": {
   "codemirror_mode": {
    "name": "ipython",
    "version": 3
   },
   "file_extension": ".py",
   "mimetype": "text/x-python",
   "name": "python",
   "nbconvert_exporter": "python",
   "pygments_lexer": "ipython3",
   "version": "3.8.5"
  }
 },
 "nbformat": 4,
 "nbformat_minor": 2
}
